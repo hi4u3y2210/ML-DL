{
 "cells": [
  {
   "cell_type": "code",
   "execution_count": 1,
   "metadata": {},
   "outputs": [],
   "source": [
    "%matplotlib inline\n",
    "\n",
    "\n",
    "import numpy as np\n",
    "import matplotlib.pyplot as plt"
   ]
  },
  {
   "cell_type": "code",
   "execution_count": 2,
   "metadata": {},
   "outputs": [
    {
     "name": "stderr",
     "output_type": "stream",
     "text": [
      "Using TensorFlow backend.\n"
     ]
    }
   ],
   "source": [
    "from keras.datasets import mnist"
   ]
  },
  {
   "cell_type": "code",
   "execution_count": 3,
   "metadata": {},
   "outputs": [],
   "source": [
    "(x_train, y_train), (x_test, y_test) = mnist.load_data()\n"
   ]
  },
  {
   "cell_type": "code",
   "execution_count": 4,
   "metadata": {},
   "outputs": [
    {
     "data": {
      "text/plain": [
       "<matplotlib.image.AxesImage at 0x2667fb46ef0>"
      ]
     },
     "execution_count": 4,
     "metadata": {},
     "output_type": "execute_result"
    },
    {
     "data": {
      "image/png": "[encoded data removed]",
      "text/plain": [
       "<Figure size 432x288 with 1 Axes>"
      ]
     },
     "metadata": {
      "needs_background": "light"
     },
     "output_type": "display_data"
    }
   ],
   "source": [
    "plt.imshow(x_train[8888],cmap='Greys')"
   ]
  },
  {
   "cell_type": "code",
   "execution_count": 5,
   "metadata": {},
   "outputs": [],
   "source": [
    "x_train = x_train.reshape(60000, 784)\n",
    "x_test = x_test.reshape(10000, 784)"
   ]
  },
  {
   "cell_type": "code",
   "execution_count": 6,
   "metadata": {},
   "outputs": [],
   "source": [
    "from keras.utils import np_utils"
   ]
  },
  {
   "cell_type": "code",
   "execution_count": 7,
   "metadata": {},
   "outputs": [],
   "source": [
    "y_train = np_utils.to_categorical(y_train, 10)\n",
    "y_test = np_utils.to_categorical(y_test, 10)"
   ]
  },
  {
   "cell_type": "code",
   "execution_count": 8,
   "metadata": {},
   "outputs": [],
   "source": [
    "from keras.models import Model\n",
    "from keras.layers import Input\n",
    "from keras.layers import concatenate, add, Dense"
   ]
  },
  {
   "cell_type": "code",
   "execution_count": 22,
   "metadata": {},
   "outputs": [],
   "source": [
    "f_1 = Dense(100, activation='relu')\n",
    "f_2 = Dense(50, activation='relu')\n",
    "f_3 = Dense(20, activation='relu')\n",
    "f_4 = Dense(10, activation='softmax')"
   ]
  },
  {
   "cell_type": "code",
   "execution_count": 10,
   "metadata": {},
   "outputs": [
    {
     "name": "stdout",
     "output_type": "stream",
     "text": [
      "<keras.layers.core.Dense object at 0x000002667FB77668> <keras.layers.core.Dense object at 0x000002667FBB2780>\n"
     ]
    }
   ],
   "source": [
    "print(f_1, f_3)"
   ]
  },
  {
   "cell_type": "code",
   "execution_count": 11,
   "metadata": {
    "scrolled": true
   },
   "outputs": [],
   "source": [
    "x = Input(shape=(784,))"
   ]
  },
  {
   "cell_type": "code",
   "execution_count": 12,
   "metadata": {},
   "outputs": [
    {
     "name": "stdout",
     "output_type": "stream",
     "text": [
      "WARNING:tensorflow:From c:\\program files\\python36\\lib\\site-packages\\tensorflow\\python\\framework\\op_def_library.py:263: colocate_with (from tensorflow.python.framework.ops) is deprecated and will be removed in a future version.\n",
      "Instructions for updating:\n",
      "Colocations handled automatically by placer.\n"
     ]
    }
   ],
   "source": [
    "h_1 = f_1(x)\n",
    "h_2 = f_2(h_1)\n",
    "h_3 = f_3(h_2)\n",
    "y = f_4(h_3)"
   ]
  },
  {
   "cell_type": "code",
   "execution_count": 13,
   "metadata": {},
   "outputs": [
    {
     "name": "stdout",
     "output_type": "stream",
     "text": [
      "Tensor(\"dense_1/Relu:0\", shape=(?, 100), dtype=float32)\n",
      "Tensor(\"dense_2/Relu:0\", shape=(?, 50), dtype=float32)\n",
      "Tensor(\"dense_3/Relu:0\", shape=(?, 20), dtype=float32)\n",
      "Tensor(\"dense_4/Softmax:0\", shape=(?, 10), dtype=float32)\n"
     ]
    }
   ],
   "source": [
    "print(h_1)\n",
    "print(h_2)\n",
    "print(h_3)\n",
    "print(y)"
   ]
  },
  {
   "cell_type": "code",
   "execution_count": 14,
   "metadata": {},
   "outputs": [
    {
     "name": "stdout",
     "output_type": "stream",
     "text": [
      "_________________________________________________________________\n",
      "Layer (type)                 Output Shape              Param #   \n",
      "=================================================================\n",
      "input_1 (InputLayer)         (None, 784)               0         \n",
      "_________________________________________________________________\n",
      "dense_1 (Dense)              (None, 100)               78500     \n",
      "_________________________________________________________________\n",
      "dense_2 (Dense)              (None, 50)                5050      \n",
      "_________________________________________________________________\n",
      "dense_3 (Dense)              (None, 20)                1020      \n",
      "_________________________________________________________________\n",
      "dense_4 (Dense)              (None, 10)                210       \n",
      "=================================================================\n",
      "Total params: 84,780\n",
      "Trainable params: 84,780\n",
      "Non-trainable params: 0\n",
      "_________________________________________________________________\n"
     ]
    }
   ],
   "source": [
    "model = Model(x, y)\n",
    "model.summary()"
   ]
  },
  {
   "cell_type": "code",
   "execution_count": 15,
   "metadata": {},
   "outputs": [],
   "source": [
    "f_5 = Dense(20, activation='sigmoid')\n",
    "z = f_5(h_1)\n",
    "f_4 = Dense(10, activation='softmax')"
   ]
  },
  {
   "cell_type": "code",
   "execution_count": 16,
   "metadata": {},
   "outputs": [],
   "source": [
    "u = concatenate([h_3, z])\n",
    "y = f_4(u)"
   ]
  },
  {
   "cell_type": "code",
   "execution_count": 17,
   "metadata": {},
   "outputs": [
    {
     "name": "stdout",
     "output_type": "stream",
     "text": [
      "Tensor(\"concatenate_1/concat:0\", shape=(?, 40), dtype=float32)\n",
      "Tensor(\"dense_6/Softmax:0\", shape=(?, 10), dtype=float32)\n"
     ]
    }
   ],
   "source": [
    "print(u)\n",
    "print(y)"
   ]
  },
  {
   "cell_type": "code",
   "execution_count": 18,
   "metadata": {},
   "outputs": [
    {
     "name": "stdout",
     "output_type": "stream",
     "text": [
      "__________________________________________________________________________________________________\n",
      "Layer (type)                    Output Shape         Param #     Connected to                     \n",
      "==================================================================================================\n",
      "input_1 (InputLayer)            (None, 784)          0                                            \n",
      "__________________________________________________________________________________________________\n",
      "dense_1 (Dense)                 (None, 100)          78500       input_1[0][0]                    \n",
      "__________________________________________________________________________________________________\n",
      "dense_2 (Dense)                 (None, 50)           5050        dense_1[0][0]                    \n",
      "__________________________________________________________________________________________________\n",
      "dense_3 (Dense)                 (None, 20)           1020        dense_2[0][0]                    \n",
      "__________________________________________________________________________________________________\n",
      "dense_5 (Dense)                 (None, 20)           2020        dense_1[0][0]                    \n",
      "__________________________________________________________________________________________________\n",
      "concatenate_1 (Concatenate)     (None, 40)           0           dense_3[0][0]                    \n",
      "                                                                 dense_5[0][0]                    \n",
      "__________________________________________________________________________________________________\n",
      "dense_6 (Dense)                 (None, 10)           410         concatenate_1[0][0]              \n",
      "==================================================================================================\n",
      "Total params: 87,000\n",
      "Trainable params: 87,000\n",
      "Non-trainable params: 0\n",
      "__________________________________________________________________________________________________\n"
     ]
    }
   ],
   "source": [
    "model = Model(x, y)\n",
    "model.summary()"
   ]
  },
  {
   "cell_type": "code",
   "execution_count": 19,
   "metadata": {},
   "outputs": [],
   "source": [
    "from keras.optimizers import SGD"
   ]
  },
  {
   "cell_type": "code",
   "execution_count": 20,
   "metadata": {},
   "outputs": [],
   "source": [
    "model.compile(loss='mse', optimizer=SGD(lr=0.001), metrics=['accuracy'])"
   ]
  },
  {
   "cell_type": "code",
   "execution_count": 23,
   "metadata": {},
   "outputs": [
    {
     "name": "stdout",
     "output_type": "stream",
     "text": [
      "Epoch 1/100\n",
      "60000/60000 [==============================] - 2s 27us/step - loss: 0.0404 - acc: 0.7308\n",
      "Epoch 2/100\n",
      "60000/60000 [==============================] - 2s 26us/step - loss: 0.0401 - acc: 0.7330\n",
      "Epoch 3/100\n",
      "60000/60000 [==============================] - 2s 26us/step - loss: 0.0398 - acc: 0.7363\n",
      "Epoch 4/100\n",
      "60000/60000 [==============================] - 2s 26us/step - loss: 0.0396 - acc: 0.7388\n",
      "Epoch 5/100\n",
      "60000/60000 [==============================] - 2s 26us/step - loss: 0.0393 - acc: 0.7411\n",
      "Epoch 6/100\n",
      "60000/60000 [==============================] - 2s 25us/step - loss: 0.0391 - acc: 0.7435\n",
      "Epoch 7/100\n",
      "60000/60000 [==============================] - 2s 25us/step - loss: 0.0389 - acc: 0.7454\n",
      "Epoch 8/100\n",
      "60000/60000 [==============================] - 2s 25us/step - loss: 0.0386 - acc: 0.7481\n",
      "Epoch 9/100\n",
      "60000/60000 [==============================] - 2s 25us/step - loss: 0.0384 - acc: 0.7497\n",
      "Epoch 10/100\n",
      "60000/60000 [==============================] - 2s 26us/step - loss: 0.0382 - acc: 0.7520\n",
      "Epoch 11/100\n",
      "60000/60000 [==============================] - 2s 25us/step - loss: 0.0380 - acc: 0.7538\n",
      "Epoch 12/100\n",
      "60000/60000 [==============================] - 2s 25us/step - loss: 0.0378 - acc: 0.7561\n",
      "Epoch 13/100\n",
      "60000/60000 [==============================] - 2s 26us/step - loss: 0.0375 - acc: 0.7579\n",
      "Epoch 14/100\n",
      "60000/60000 [==============================] - 2s 26us/step - loss: 0.0373 - acc: 0.7599\n",
      "Epoch 15/100\n",
      "60000/60000 [==============================] - 2s 26us/step - loss: 0.0372 - acc: 0.7610\n",
      "Epoch 16/100\n",
      "60000/60000 [==============================] - 2s 26us/step - loss: 0.0370 - acc: 0.7629\n",
      "Epoch 17/100\n",
      "60000/60000 [==============================] - 2s 26us/step - loss: 0.0368 - acc: 0.7644\n",
      "Epoch 18/100\n",
      "60000/60000 [==============================] - 2s 26us/step - loss: 0.0366 - acc: 0.7663\n",
      "Epoch 19/100\n",
      "60000/60000 [==============================] - 2s 26us/step - loss: 0.0364 - acc: 0.7672\n",
      "Epoch 20/100\n",
      "60000/60000 [==============================] - 2s 27us/step - loss: 0.0362 - acc: 0.7693\n",
      "Epoch 21/100\n",
      "60000/60000 [==============================] - 2s 27us/step - loss: 0.0360 - acc: 0.7710\n",
      "Epoch 22/100\n",
      "60000/60000 [==============================] - 2s 26us/step - loss: 0.0358 - acc: 0.7719\n",
      "Epoch 23/100\n",
      "60000/60000 [==============================] - 2s 27us/step - loss: 0.0356 - acc: 0.7732\n",
      "Epoch 24/100\n",
      "60000/60000 [==============================] - 2s 28us/step - loss: 0.0355 - acc: 0.7748\n",
      "Epoch 25/100\n",
      "60000/60000 [==============================] - 2s 26us/step - loss: 0.0353 - acc: 0.7757\n",
      "Epoch 26/100\n",
      "60000/60000 [==============================] - 2s 28us/step - loss: 0.0351 - acc: 0.7767\n",
      "Epoch 27/100\n",
      "60000/60000 [==============================] - 2s 27us/step - loss: 0.0349 - acc: 0.7783\n",
      "Epoch 28/100\n",
      "60000/60000 [==============================] - 2s 26us/step - loss: 0.0348 - acc: 0.7798\n",
      "Epoch 29/100\n",
      "60000/60000 [==============================] - 2s 27us/step - loss: 0.0346 - acc: 0.7814\n",
      "Epoch 30/100\n",
      "60000/60000 [==============================] - 2s 28us/step - loss: 0.0344 - acc: 0.7832\n",
      "Epoch 31/100\n",
      "60000/60000 [==============================] - 2s 26us/step - loss: 0.0343 - acc: 0.7840\n",
      "Epoch 32/100\n",
      "60000/60000 [==============================] - 2s 26us/step - loss: 0.0341 - acc: 0.7857\n",
      "Epoch 33/100\n",
      "60000/60000 [==============================] - 2s 28us/step - loss: 0.0339 - acc: 0.7869\n",
      "Epoch 34/100\n",
      "60000/60000 [==============================] - 2s 29us/step - loss: 0.0338 - acc: 0.7882\n",
      "Epoch 35/100\n",
      "60000/60000 [==============================] - 2s 28us/step - loss: 0.0336 - acc: 0.7899\n",
      "Epoch 36/100\n",
      "60000/60000 [==============================] - 2s 29us/step - loss: 0.0335 - acc: 0.7913\n",
      "Epoch 37/100\n",
      "60000/60000 [==============================] - 2s 26us/step - loss: 0.0333 - acc: 0.7926\n",
      "Epoch 38/100\n",
      "60000/60000 [==============================] - 2s 28us/step - loss: 0.0332 - acc: 0.7933\n",
      "Epoch 39/100\n",
      "60000/60000 [==============================] - 2s 26us/step - loss: 0.0330 - acc: 0.7946\n",
      "Epoch 40/100\n",
      "60000/60000 [==============================] - 2s 26us/step - loss: 0.0329 - acc: 0.7959\n",
      "Epoch 41/100\n",
      "60000/60000 [==============================] - 2s 27us/step - loss: 0.0327 - acc: 0.7964\n",
      "Epoch 42/100\n",
      "60000/60000 [==============================] - 2s 27us/step - loss: 0.0326 - acc: 0.7979\n",
      "Epoch 43/100\n",
      "60000/60000 [==============================] - 2s 27us/step - loss: 0.0324 - acc: 0.7990\n",
      "Epoch 44/100\n",
      "60000/60000 [==============================] - 2s 27us/step - loss: 0.0323 - acc: 0.8000\n",
      "Epoch 45/100\n",
      "60000/60000 [==============================] - 2s 28us/step - loss: 0.0322 - acc: 0.8009\n",
      "Epoch 46/100\n",
      "60000/60000 [==============================] - 2s 27us/step - loss: 0.0320 - acc: 0.8020\n",
      "Epoch 47/100\n",
      "60000/60000 [==============================] - 2s 26us/step - loss: 0.0319 - acc: 0.8028\n",
      "Epoch 48/100\n",
      "60000/60000 [==============================] - 2s 28us/step - loss: 0.0317 - acc: 0.8038\n",
      "Epoch 49/100\n",
      "60000/60000 [==============================] - 2s 29us/step - loss: 0.0316 - acc: 0.8049\n",
      "Epoch 50/100\n",
      "60000/60000 [==============================] - 2s 27us/step - loss: 0.0315 - acc: 0.8060\n",
      "Epoch 51/100\n",
      "60000/60000 [==============================] - 2s 27us/step - loss: 0.0313 - acc: 0.8071\n",
      "Epoch 52/100\n",
      "60000/60000 [==============================] - 2s 26us/step - loss: 0.0312 - acc: 0.8080\n",
      "Epoch 53/100\n",
      "60000/60000 [==============================] - 2s 27us/step - loss: 0.0310 - acc: 0.8090\n",
      "Epoch 54/100\n",
      "60000/60000 [==============================] - 2s 31us/step - loss: 0.0309 - acc: 0.8100\n",
      "Epoch 55/100\n",
      "60000/60000 [==============================] - 2s 29us/step - loss: 0.0308 - acc: 0.8110\n",
      "Epoch 56/100\n",
      "60000/60000 [==============================] - 2s 31us/step - loss: 0.0306 - acc: 0.8121\n",
      "Epoch 57/100\n",
      "60000/60000 [==============================] - 2s 30us/step - loss: 0.0305 - acc: 0.8130\n",
      "Epoch 58/100\n",
      "60000/60000 [==============================] - 2s 29us/step - loss: 0.0303 - acc: 0.8139\n",
      "Epoch 59/100\n",
      "60000/60000 [==============================] - 2s 29us/step - loss: 0.0302 - acc: 0.8146\n",
      "Epoch 60/100\n",
      "60000/60000 [==============================] - 2s 30us/step - loss: 0.0301 - acc: 0.8158\n",
      "Epoch 61/100\n",
      "60000/60000 [==============================] - 2s 30us/step - loss: 0.0299 - acc: 0.8170\n",
      "Epoch 62/100\n",
      "60000/60000 [==============================] - 2s 30us/step - loss: 0.0298 - acc: 0.8179\n",
      "Epoch 63/100\n",
      "60000/60000 [==============================] - 2s 29us/step - loss: 0.0296 - acc: 0.8192\n",
      "Epoch 64/100\n",
      "60000/60000 [==============================] - 2s 29us/step - loss: 0.0295 - acc: 0.8204\n",
      "Epoch 65/100\n",
      "60000/60000 [==============================] - 2s 31us/step - loss: 0.0293 - acc: 0.8214\n",
      "Epoch 66/100\n",
      "60000/60000 [==============================] - 2s 30us/step - loss: 0.0292 - acc: 0.8226\n",
      "Epoch 67/100\n",
      "60000/60000 [==============================] - 2s 31us/step - loss: 0.0290 - acc: 0.8243\n",
      "Epoch 68/100\n",
      "60000/60000 [==============================] - 2s 30us/step - loss: 0.0289 - acc: 0.8255\n",
      "Epoch 69/100\n",
      "60000/60000 [==============================] - 2s 30us/step - loss: 0.0287 - acc: 0.8267\n",
      "Epoch 70/100\n",
      "60000/60000 [==============================] - 2s 32us/step - loss: 0.0285 - acc: 0.8283\n",
      "Epoch 71/100\n",
      "60000/60000 [==============================] - 2s 30us/step - loss: 0.0283 - acc: 0.8300\n",
      "Epoch 72/100\n",
      "60000/60000 [==============================] - 2s 29us/step - loss: 0.0282 - acc: 0.8314\n",
      "Epoch 73/100\n",
      "60000/60000 [==============================] - 2s 30us/step - loss: 0.0280 - acc: 0.8332\n",
      "Epoch 74/100\n",
      "60000/60000 [==============================] - 2s 29us/step - loss: 0.0278 - acc: 0.8349\n",
      "Epoch 75/100\n",
      "60000/60000 [==============================] - 2s 30us/step - loss: 0.0276 - acc: 0.8365\n",
      "Epoch 76/100\n",
      "60000/60000 [==============================] - 2s 31us/step - loss: 0.0274 - acc: 0.8380\n",
      "Epoch 77/100\n",
      "60000/60000 [==============================] - 2s 30us/step - loss: 0.0272 - acc: 0.8397\n",
      "Epoch 78/100\n",
      "60000/60000 [==============================] - 2s 29us/step - loss: 0.0271 - acc: 0.8416\n",
      "Epoch 79/100\n",
      "60000/60000 [==============================] - 2s 30us/step - loss: 0.0269 - acc: 0.8433\n",
      "Epoch 80/100\n",
      "60000/60000 [==============================] - 2s 31us/step - loss: 0.0267 - acc: 0.8451\n",
      "Epoch 81/100\n"
     ]
    },
    {
     "name": "stdout",
     "output_type": "stream",
     "text": [
      "60000/60000 [==============================] - 2s 28us/step - loss: 0.0264 - acc: 0.8473\n",
      "Epoch 82/100\n",
      "60000/60000 [==============================] - 2s 30us/step - loss: 0.0263 - acc: 0.8487\n",
      "Epoch 83/100\n",
      "60000/60000 [==============================] - 2s 29us/step - loss: 0.0261 - acc: 0.8498\n",
      "Epoch 84/100\n",
      "60000/60000 [==============================] - 2s 30us/step - loss: 0.0259 - acc: 0.8515\n",
      "Epoch 85/100\n",
      "60000/60000 [==============================] - 2s 29us/step - loss: 0.0257 - acc: 0.8526\n",
      "Epoch 86/100\n",
      "60000/60000 [==============================] - 2s 28us/step - loss: 0.0255 - acc: 0.8541\n",
      "Epoch 87/100\n",
      "60000/60000 [==============================] - 2s 29us/step - loss: 0.0254 - acc: 0.8553\n",
      "Epoch 88/100\n",
      "60000/60000 [==============================] - 2s 28us/step - loss: 0.0252 - acc: 0.8568\n",
      "Epoch 89/100\n",
      "60000/60000 [==============================] - 2s 28us/step - loss: 0.0250 - acc: 0.8582\n",
      "Epoch 90/100\n",
      "60000/60000 [==============================] - 2s 28us/step - loss: 0.0249 - acc: 0.8594\n",
      "Epoch 91/100\n",
      "60000/60000 [==============================] - 2s 28us/step - loss: 0.0247 - acc: 0.8606\n",
      "Epoch 92/100\n",
      "60000/60000 [==============================] - 2s 30us/step - loss: 0.0246 - acc: 0.8614\n",
      "Epoch 93/100\n",
      "60000/60000 [==============================] - 2s 28us/step - loss: 0.0244 - acc: 0.8629\n",
      "Epoch 94/100\n",
      "60000/60000 [==============================] - 2s 29us/step - loss: 0.0242 - acc: 0.8636\n",
      "Epoch 95/100\n",
      "60000/60000 [==============================] - 2s 29us/step - loss: 0.0241 - acc: 0.8649\n",
      "Epoch 96/100\n",
      "60000/60000 [==============================] - 2s 29us/step - loss: 0.0240 - acc: 0.8661\n",
      "Epoch 97/100\n",
      "60000/60000 [==============================] - 2s 29us/step - loss: 0.0238 - acc: 0.8670\n",
      "Epoch 98/100\n",
      "60000/60000 [==============================] - 2s 29us/step - loss: 0.0237 - acc: 0.8677\n",
      "Epoch 99/100\n",
      "60000/60000 [==============================] - 2s 30us/step - loss: 0.0235 - acc: 0.8688\n",
      "Epoch 100/100\n",
      "60000/60000 [==============================] - 2s 31us/step - loss: 0.0234 - acc: 0.8696\n"
     ]
    },
    {
     "data": {
      "text/plain": [
       "<keras.callbacks.History at 0x2667fbc02e8>"
      ]
     },
     "execution_count": 23,
     "metadata": {},
     "output_type": "execute_result"
    }
   ],
   "source": [
    "model.fit(x_train, y_train, batch_size=100, epochs=100)"
   ]
  },
  {
   "cell_type": "code",
   "execution_count": 24,
   "metadata": {},
   "outputs": [
    {
     "name": "stdout",
     "output_type": "stream",
     "text": [
      "10000/10000 [==============================] - 0s 36us/step\n"
     ]
    }
   ],
   "source": [
    "score = model.evaluate(x_test, y_test)"
   ]
  },
  {
   "cell_type": "code",
   "execution_count": 25,
   "metadata": {},
   "outputs": [
    {
     "name": "stdout",
     "output_type": "stream",
     "text": [
      "loss: 0.024105861628055572\n",
      "正確率 0.8638\n"
     ]
    }
   ],
   "source": [
    "print('loss:', score[0])\n",
    "print('正確率', score[1])"
   ]
  },
  {
   "cell_type": "code",
   "execution_count": 26,
   "metadata": {},
   "outputs": [],
   "source": [
    "model_json = model.to_json()\n",
    "open('API_best_model.json', 'w').write(model_json)\n",
    "model.save_weights('API_best_model_weights.h5')"
   ]
  },
  {
   "cell_type": "code",
   "execution_count": null,
   "metadata": {},
   "outputs": [],
   "source": []
  }
 ],
 "metadata": {
  "kernelspec": {
   "display_name": "Python 3",
   "language": "python",
   "name": "python3"
  },
  "language_info": {
   "codemirror_mode": {
    "name": "ipython",
    "version": 3
   },
   "file_extension": ".py",
   "mimetype": "text/x-python",
   "name": "python",
   "nbconvert_exporter": "python",
   "pygments_lexer": "ipython3",
   "version": "3.6.5"
  }
 },
 "nbformat": 4,
 "nbformat_minor": 2
}
