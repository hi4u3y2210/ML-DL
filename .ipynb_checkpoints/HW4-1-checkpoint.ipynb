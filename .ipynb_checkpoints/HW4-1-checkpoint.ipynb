{
 "cells": [
  {
   "cell_type": "code",
   "execution_count": 1,
   "metadata": {},
   "outputs": [],
   "source": [
    "import time\n",
    "import datetime\n",
    "import pandas as pd"
   ]
  },
  {
   "cell_type": "code",
   "execution_count": 2,
   "metadata": {},
   "outputs": [
    {
     "name": "stdout",
     "output_type": "stream",
     "text": [
      "請輸入起始西元年:2019\n",
      "請輸入起始前一月:1\n",
      "請輸入結束西元年:2019\n",
      "請輸入結束月份:2\n",
      "請輸入股票代碼:2330\n"
     ]
    }
   ],
   "source": [
    "startyear = int(input(\"請輸入起始西元年:\"))\n",
    "startmonth = int(input(\"請輸入起始前一月:\"))\n",
    "endyear = int(input(\"請輸入結束西元年:\"))\n",
    "endmonth = int(input(\"請輸入結束月份:\"))\n",
    "stocknumber = input(\"請輸入股票代碼:\")"
   ]
  },
  {
   "cell_type": "code",
   "execution_count": 3,
   "metadata": {},
   "outputs": [],
   "source": [
    "start = datetime.date(startyear, startmonth, 1)\n",
    "end = datetime.date(endyear, endmonth, 1)"
   ]
  },
  {
   "cell_type": "code",
   "execution_count": 4,
   "metadata": {},
   "outputs": [
    {
     "name": "stdout",
     "output_type": "stream",
     "text": [
      "0\n",
      "                                                                              108年02月 2330 台積電           各日成交資訊\n",
      "日期        成交股數       成交金額           開盤價    最高價    最低價    收盤價    漲跌價差  成交筆數                                  NaN\n",
      "108/02/11 81,360,106 18,546,167,132 228.00 229.00 226.50 228.00 +7.00 21,689                                NaN\n",
      "108/02/12 30,125,670 6,921,488,930  230.00 230.00 229.00 230.00 +2.00 13,313                                NaN\n",
      "108/02/13 28,634,925 6,575,201,825  232.00 232.00 228.50 229.00 -1.00 10,230                                NaN\n",
      "108/02/14 23,647,751 5,392,943,977  229.50 230.00 226.00 227.00 -2.00 6,873                                 NaN\n"
     ]
    }
   ],
   "source": [
    "for month in range(100):\n",
    "    print(month)\n",
    "    start = datetime.date(start.year + (start.month // 12), ((start.month % 12) + 1), 1)\n",
    "    if start.month < 10:\n",
    "        url = \"http://www.twse.com.tw/exchangeReport/STOCK_DAY?response=csv&date=\" + str(start.year) + \"0\" + str(start.month) + \"01&stockNo=\" + str(stocknumber)\n",
    "    else:\n",
    "        url = \"http://www.twse.com.tw/exchangeReport/STOCK_DAY?response=csv&date=\" + str(start.year) + str(start.month) + \"01&stockNo=\" + str(stocknumber)\n",
    "\n",
    "    time.sleep(3)\n",
    "    s = pd.read_csv(url, encoding=\"big5\", header = 1)\n",
    "    print(s.head())\n",
    "    if start == end:\n",
    "        break\n"
   ]
  },
  {
   "cell_type": "code",
   "execution_count": null,
   "metadata": {},
   "outputs": [],
   "source": [
    "s.shape"
   ]
  },
  {
   "cell_type": "code",
   "execution_count": null,
   "metadata": {},
   "outputs": [],
   "source": [
    "s.info()\n"
   ]
  },
  {
   "cell_type": "code",
   "execution_count": null,
   "metadata": {},
   "outputs": [],
   "source": []
  }
 ],
 "metadata": {
  "kernelspec": {
   "display_name": "Python 3",
   "language": "python",
   "name": "python3"
  },
  "language_info": {
   "codemirror_mode": {
    "name": "ipython",
    "version": 3
   },
   "file_extension": ".py",
   "mimetype": "text/x-python",
   "name": "python",
   "nbconvert_exporter": "python",
   "pygments_lexer": "ipython3",
   "version": "3.6.5"
  }
 },
 "nbformat": 4,
 "nbformat_minor": 2
}
