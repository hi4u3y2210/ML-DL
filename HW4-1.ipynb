{
 "cells": [
  {
   "cell_type": "code",
   "execution_count": 1,
   "metadata": {},
   "outputs": [],
   "source": [
    "%matplotlib inline\n",
    "import time\n",
    "import datetime\n",
    "import pandas as pd\n",
    "import numpy as np\n",
    "import matplotlib.pyplot as plt"
   ]
  },
  {
   "cell_type": "code",
   "execution_count": 2,
   "metadata": {},
   "outputs": [
    {
     "name": "stdout",
     "output_type": "stream",
     "text": [
      "請輸入起始西元年:2015\n",
      "請輸入起始前一月:12\n",
      "請輸入結束西元年:2019\n",
      "請輸入結束月份:3\n",
      "請輸入股票代碼:2330\n"
     ]
    }
   ],
   "source": [
    "startyear = int(input(\"請輸入起始西元年:\"))\n",
    "startmonth = int(input(\"請輸入起始前一月:\"))\n",
    "endyear = int(input(\"請輸入結束西元年:\"))\n",
    "endmonth = int(input(\"請輸入結束月份:\"))\n",
    "stocknumber = input(\"請輸入股票代碼:\")"
   ]
  },
  {
   "cell_type": "code",
   "execution_count": 3,
   "metadata": {},
   "outputs": [],
   "source": [
    "start = datetime.date(startyear, startmonth, 1)\n",
    "end = datetime.date(endyear, endmonth, 1)\n",
    "price = []\n",
    "day = []"
   ]
  },
  {
   "cell_type": "code",
   "execution_count": 4,
   "metadata": {},
   "outputs": [
    {
     "name": "stdout",
     "output_type": "stream",
     "text": [
      "Done\n"
     ]
    }
   ],
   "source": [
    "for month in range(100):\n",
    "    # print(month)\n",
    "    start = datetime.date(start.year + (start.month // 12), ((start.month % 12) + 1), 1)\n",
    "    if start.month < 10:\n",
    "        url = \"http://www.twse.com.tw/exchangeReport/STOCK_DAY?response=csv&date=\" + str(start.year) + \"0\" + str(start.month) + \"01&stockNo=\" + str(stocknumber)\n",
    "    else:\n",
    "        url = \"http://www.twse.com.tw/exchangeReport/STOCK_DAY?response=csv&date=\" + str(start.year) + str(start.month) + \"01&stockNo=\" + str(stocknumber)\n",
    "\n",
    "    time.sleep(3)\n",
    "    s = pd.read_csv(url, encoding=\"big5\", header = 1, delimiter=',')\n",
    "    s.columns = ['date', 'shares', 'amount', 'open', 'high', 'low', 'close', 'change', 'turnover', '']\n",
    "    index = 0\n",
    "    for i in s[\"close\"]:\n",
    "        if i >= 0:\n",
    "            price.append(i)\n",
    "            day.append(s[\"date\"][index])\n",
    "            index += 1\n",
    "        else:    \n",
    "            break\n",
    "\n",
    "    if start == end:\n",
    "        break\n",
    "        \n",
    "print(\"Done\")\n"
   ]
  },
  {
   "cell_type": "code",
   "execution_count": 5,
   "metadata": {},
   "outputs": [
    {
     "data": {
      "image/png": "[encoded data removed]",
      "text/plain": [
       "<Figure size 432x288 with 1 Axes>"
      ]
     },
     "metadata": {
      "needs_background": "light"
     },
     "output_type": "display_data"
    }
   ],
   "source": [
    "plt.plot(day, price, '--o')\n",
    "plt.show()"
   ]
  },
  {
   "cell_type": "code",
   "execution_count": null,
   "metadata": {},
   "outputs": [],
   "source": [
    "\n"
   ]
  },
  {
   "cell_type": "code",
   "execution_count": null,
   "metadata": {},
   "outputs": [],
   "source": []
  }
 ],
 "metadata": {
  "kernelspec": {
   "display_name": "Python 3",
   "language": "python",
   "name": "python3"
  },
  "language_info": {
   "codemirror_mode": {
    "name": "ipython",
    "version": 3
   },
   "file_extension": ".py",
   "mimetype": "text/x-python",
   "name": "python",
   "nbconvert_exporter": "python",
   "pygments_lexer": "ipython3",
   "version": "3.6.5"
  }
 },
 "nbformat": 4,
 "nbformat_minor": 2
}
