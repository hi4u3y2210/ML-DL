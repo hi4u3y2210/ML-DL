{
 "cells": [
  {
   "cell_type": "code",
   "execution_count": 1,
   "metadata": {},
   "outputs": [],
   "source": [
    "%matplotlib inline\n",
    "\n",
    "\n",
    "import numpy as np\n",
    "import matplotlib.pyplot as plt"
   ]
  },
  {
   "cell_type": "code",
   "execution_count": 2,
   "metadata": {},
   "outputs": [
    {
     "name": "stderr",
     "output_type": "stream",
     "text": [
      "Using TensorFlow backend.\n"
     ]
    }
   ],
   "source": [
    "from keras.datasets import mnist"
   ]
  },
  {
   "cell_type": "code",
   "execution_count": 12,
   "metadata": {},
   "outputs": [],
   "source": [
    "(x_train, y_train), (x_test, y_test) = mnist.load_data()\n"
   ]
  },
  {
   "cell_type": "code",
   "execution_count": 14,
   "metadata": {},
   "outputs": [
    {
     "data": {
      "text/plain": [
       "<matplotlib.image.AxesImage at 0x269cd4a6278>"
      ]
     },
     "execution_count": 14,
     "metadata": {},
     "output_type": "execute_result"
    },
    {
     "data": {
      "image/png": "[encoded data removed]",
      "text/plain": [
       "<Figure size 432x288 with 1 Axes>"
      ]
     },
     "metadata": {
      "needs_background": "light"
     },
     "output_type": "display_data"
    }
   ],
   "source": [
    "plt.imshow(x_train[8888],cmap='Greys')"
   ]
  },
  {
   "cell_type": "code",
   "execution_count": 15,
   "metadata": {},
   "outputs": [],
   "source": [
    "x_train = x_train.reshape(60000, 784)\n",
    "x_test = x_test.reshape(10000, 784)"
   ]
  },
  {
   "cell_type": "code",
   "execution_count": 16,
   "metadata": {},
   "outputs": [],
   "source": [
    "from keras.utils import np_utils"
   ]
  },
  {
   "cell_type": "code",
   "execution_count": 17,
   "metadata": {},
   "outputs": [],
   "source": [
    "y_train = np_utils.to_categorical(y_train, 10)\n",
    "y_test = np_utils.to_categorical(y_test, 10)"
   ]
  },
  {
   "cell_type": "code",
   "execution_count": 18,
   "metadata": {},
   "outputs": [],
   "source": [
    "from keras.models import Sequential\n",
    "from keras.layers import Dense, Activation\n",
    "from keras.optimizers import SGD"
   ]
  },
  {
   "cell_type": "code",
   "execution_count": 19,
   "metadata": {},
   "outputs": [],
   "source": [
    "model = Sequential()"
   ]
  },
  {
   "cell_type": "code",
   "execution_count": 20,
   "metadata": {},
   "outputs": [
    {
     "name": "stdout",
     "output_type": "stream",
     "text": [
      "WARNING:tensorflow:From c:\\program files\\python36\\lib\\site-packages\\tensorflow\\python\\framework\\op_def_library.py:263: colocate_with (from tensorflow.python.framework.ops) is deprecated and will be removed in a future version.\n",
      "Instructions for updating:\n",
      "Colocations handled automatically by placer.\n"
     ]
    }
   ],
   "source": [
    "model.add(Dense(100, input_dim=784))\n",
    "model.add(Activation('sigmoid'))"
   ]
  },
  {
   "cell_type": "code",
   "execution_count": 21,
   "metadata": {},
   "outputs": [],
   "source": [
    "model.add(Dense(50))\n",
    "model.add(Activation('sigmoid'))"
   ]
  },
  {
   "cell_type": "code",
   "execution_count": 22,
   "metadata": {},
   "outputs": [],
   "source": [
    "model.add(Dense(20))\n",
    "model.add(Activation('sigmoid'))"
   ]
  },
  {
   "cell_type": "code",
   "execution_count": 23,
   "metadata": {},
   "outputs": [],
   "source": [
    "model.add(Dense(10))\n",
    "model.add(Activation('softmax'))"
   ]
  },
  {
   "cell_type": "code",
   "execution_count": 24,
   "metadata": {},
   "outputs": [
    {
     "name": "stdout",
     "output_type": "stream",
     "text": [
      "_________________________________________________________________\n",
      "Layer (type)                 Output Shape              Param #   \n",
      "=================================================================\n",
      "dense_1 (Dense)              (None, 100)               78500     \n",
      "_________________________________________________________________\n",
      "activation_1 (Activation)    (None, 100)               0         \n",
      "_________________________________________________________________\n",
      "dense_2 (Dense)              (None, 50)                5050      \n",
      "_________________________________________________________________\n",
      "activation_2 (Activation)    (None, 50)                0         \n",
      "_________________________________________________________________\n",
      "dense_3 (Dense)              (None, 20)                1020      \n",
      "_________________________________________________________________\n",
      "activation_3 (Activation)    (None, 20)                0         \n",
      "_________________________________________________________________\n",
      "dense_4 (Dense)              (None, 10)                210       \n",
      "_________________________________________________________________\n",
      "activation_4 (Activation)    (None, 10)                0         \n",
      "=================================================================\n",
      "Total params: 84,780\n",
      "Trainable params: 84,780\n",
      "Non-trainable params: 0\n",
      "_________________________________________________________________\n"
     ]
    }
   ],
   "source": [
    "model.summary()"
   ]
  },
  {
   "cell_type": "code",
   "execution_count": 26,
   "metadata": {},
   "outputs": [],
   "source": [
    "model.compile(loss='mse', optimizer=SGD(lr=0.087), metrics=['accuracy'])"
   ]
  },
  {
   "cell_type": "code",
   "execution_count": null,
   "metadata": {},
   "outputs": [
    {
     "name": "stdout",
     "output_type": "stream",
     "text": [
      "WARNING:tensorflow:From c:\\program files\\python36\\lib\\site-packages\\tensorflow\\python\\ops\\math_ops.py:3066: to_int32 (from tensorflow.python.ops.math_ops) is deprecated and will be removed in a future version.\n",
      "Instructions for updating:\n",
      "Use tf.cast instead.\n",
      "Epoch 1/100\n",
      "60000/60000 [==============================] - 2s 28us/step - loss: 0.0909 - acc: 0.0993\n",
      "Epoch 2/100\n",
      "60000/60000 [==============================] - 2s 28us/step - loss: 0.0899 - acc: 0.1534\n",
      "Epoch 3/100\n",
      "60000/60000 [==============================] - 2s 26us/step - loss: 0.0895 - acc: 0.1917\n",
      "Epoch 4/100\n",
      "60000/60000 [==============================] - 1s 25us/step - loss: 0.0891 - acc: 0.1721\n",
      "Epoch 5/100\n",
      "60000/60000 [==============================] - 1s 25us/step - loss: 0.0888 - acc: 0.1741\n",
      "Epoch 6/100\n",
      "60000/60000 [==============================] - 2s 26us/step - loss: 0.0885 - acc: 0.1994\n",
      "Epoch 7/100\n",
      "60000/60000 [==============================] - 2s 26us/step - loss: 0.0882 - acc: 0.2150\n",
      "Epoch 8/100\n",
      "60000/60000 [==============================] - 2s 25us/step - loss: 0.0878 - acc: 0.2258\n",
      "Epoch 9/100\n",
      "60000/60000 [==============================] - 2s 25us/step - loss: 0.0874 - acc: 0.2527\n",
      "Epoch 10/100\n",
      "60000/60000 [==============================] - 1s 25us/step - loss: 0.0868 - acc: 0.2640\n",
      "Epoch 11/100\n",
      "60000/60000 [==============================] - 2s 25us/step - loss: 0.0862 - acc: 0.2812\n",
      "Epoch 12/100\n",
      "60000/60000 [==============================] - 2s 25us/step - loss: 0.0854 - acc: 0.2977\n",
      "Epoch 13/100\n",
      "60000/60000 [==============================] - 2s 25us/step - loss: 0.0843 - acc: 0.3209\n",
      "Epoch 14/100\n",
      "60000/60000 [==============================] - 2s 25us/step - loss: 0.0830 - acc: 0.3492\n",
      "Epoch 15/100\n",
      "60000/60000 [==============================] - 2s 25us/step - loss: 0.0816 - acc: 0.3696\n",
      "Epoch 16/100\n",
      "60000/60000 [==============================] - 1s 23us/step - loss: 0.0803 - acc: 0.3905\n",
      "Epoch 17/100\n",
      "60000/60000 [==============================] - 2s 25us/step - loss: 0.0790 - acc: 0.4086\n",
      "Epoch 18/100\n",
      "60000/60000 [==============================] - 1s 23us/step - loss: 0.0778 - acc: 0.4249\n",
      "Epoch 19/100\n",
      "60000/60000 [==============================] - 1s 25us/step - loss: 0.0767 - acc: 0.4483\n",
      "Epoch 20/100\n",
      "60000/60000 [==============================] - 1s 24us/step - loss: 0.0755 - acc: 0.4712\n",
      "Epoch 21/100\n",
      "60000/60000 [==============================] - 1s 22us/step - loss: 0.0742 - acc: 0.4853\n",
      "Epoch 22/100\n",
      "60000/60000 [==============================] - 1s 21us/step - loss: 0.0729 - acc: 0.5015\n",
      "Epoch 23/100\n",
      "60000/60000 [==============================] - 1s 21us/step - loss: 0.0715 - acc: 0.5251\n",
      "Epoch 24/100\n",
      "60000/60000 [==============================] - 2s 25us/step - loss: 0.0700 - acc: 0.5466\n",
      "Epoch 25/100\n",
      "60000/60000 [==============================] - 1s 22us/step - loss: 0.0684 - acc: 0.5702\n",
      "Epoch 26/100\n",
      "60000/60000 [==============================] - 1s 22us/step - loss: 0.0668 - acc: 0.5930\n",
      "Epoch 27/100\n",
      "60000/60000 [==============================] - 1s 21us/step - loss: 0.0651 - acc: 0.6090\n",
      "Epoch 28/100\n",
      "60000/60000 [==============================] - 1s 21us/step - loss: 0.0632 - acc: 0.6196\n",
      "Epoch 29/100\n",
      "60000/60000 [==============================] - 1s 22us/step - loss: 0.0613 - acc: 0.6354\n",
      "Epoch 30/100\n",
      "60000/60000 [==============================] - 2s 27us/step - loss: 0.0592 - acc: 0.6466\n",
      "Epoch 31/100\n",
      "60000/60000 [==============================] - 2s 27us/step - loss: 0.0571 - acc: 0.6625\n",
      "Epoch 32/100\n",
      "60000/60000 [==============================] - 2s 26us/step - loss: 0.0549 - acc: 0.6812\n",
      "Epoch 33/100\n",
      "60000/60000 [==============================] - 1s 24us/step - loss: 0.0527 - acc: 0.7034\n",
      "Epoch 34/100\n",
      "60000/60000 [==============================] - 1s 24us/step - loss: 0.0505 - acc: 0.7255\n",
      "Epoch 35/100\n",
      "60000/60000 [==============================] - 1s 21us/step - loss: 0.0483 - acc: 0.7508\n",
      "Epoch 36/100\n",
      "60000/60000 [==============================] - 1s 24us/step - loss: 0.0460 - acc: 0.7721\n",
      "Epoch 37/100\n",
      "60000/60000 [==============================] - 1s 22us/step - loss: 0.0437 - acc: 0.7883\n",
      "Epoch 38/100\n",
      "60000/60000 [==============================] - 1s 22us/step - loss: 0.0416 - acc: 0.7984\n",
      "Epoch 39/100\n",
      "60000/60000 [==============================] - 1s 23us/step - loss: 0.0395 - acc: 0.8054\n",
      "Epoch 40/100\n",
      "60000/60000 [==============================] - 1s 22us/step - loss: 0.0377 - acc: 0.8105\n",
      "Epoch 41/100\n",
      "60000/60000 [==============================] - 1s 22us/step - loss: 0.0359 - acc: 0.8150\n",
      "Epoch 42/100\n",
      "60000/60000 [==============================] - 1s 21us/step - loss: 0.0343 - acc: 0.8183\n",
      "Epoch 43/100\n",
      "60000/60000 [==============================] - 1s 22us/step - loss: 0.0328 - acc: 0.8219\n",
      "Epoch 44/100\n",
      "60000/60000 [==============================] - 1s 21us/step - loss: 0.0314 - acc: 0.8245\n",
      "Epoch 45/100\n",
      "60000/60000 [==============================] - 1s 21us/step - loss: 0.0302 - acc: 0.8272\n",
      "Epoch 46/100\n",
      "60000/60000 [==============================] - 1s 22us/step - loss: 0.0290 - acc: 0.8295\n",
      "Epoch 47/100\n",
      "60000/60000 [==============================] - 1s 22us/step - loss: 0.0279 - acc: 0.8330\n",
      "Epoch 48/100\n",
      "60000/60000 [==============================] - 1s 22us/step - loss: 0.0268 - acc: 0.8379\n",
      "Epoch 49/100\n",
      "60000/60000 [==============================] - 1s 23us/step - loss: 0.0258 - acc: 0.8484\n",
      "Epoch 50/100\n",
      "60000/60000 [==============================] - 1s 25us/step - loss: 0.0248 - acc: 0.8604\n",
      "Epoch 51/100\n",
      "60000/60000 [==============================] - 1s 21us/step - loss: 0.0239 - acc: 0.8710\n",
      "Epoch 52/100\n",
      "60000/60000 [==============================] - 1s 21us/step - loss: 0.0231 - acc: 0.8804\n",
      "Epoch 53/100\n",
      "60000/60000 [==============================] - 1s 21us/step - loss: 0.0222 - acc: 0.8876\n",
      "Epoch 54/100\n",
      "60000/60000 [==============================] - 1s 21us/step - loss: 0.0214 - acc: 0.8941\n",
      "Epoch 55/100\n",
      "60000/60000 [==============================] - 1s 21us/step - loss: 0.0207 - acc: 0.8986\n",
      "Epoch 56/100\n",
      "60000/60000 [==============================] - 1s 24us/step - loss: 0.0200 - acc: 0.9029\n",
      "Epoch 57/100\n",
      "60000/60000 [==============================] - 1s 22us/step - loss: 0.0193 - acc: 0.9058\n",
      "Epoch 58/100\n",
      "60000/60000 [==============================] - 1s 21us/step - loss: 0.0187 - acc: 0.9093\n",
      "Epoch 59/100\n",
      "60000/60000 [==============================] - 1s 21us/step - loss: 0.0181 - acc: 0.9120\n",
      "Epoch 60/100\n",
      "60000/60000 [==============================] - 1s 22us/step - loss: 0.0175 - acc: 0.9141\n",
      "Epoch 61/100\n",
      "60000/60000 [==============================] - 1s 21us/step - loss: 0.0170 - acc: 0.9166\n",
      "Epoch 62/100\n",
      "60000/60000 [==============================] - 1s 21us/step - loss: 0.0165 - acc: 0.9178\n",
      "Epoch 63/100\n",
      "60000/60000 [==============================] - 1s 22us/step - loss: 0.0161 - acc: 0.9197\n",
      "Epoch 64/100\n",
      "60000/60000 [==============================] - 1s 22us/step - loss: 0.0156 - acc: 0.9214\n",
      "Epoch 65/100\n",
      "60000/60000 [==============================] - 1s 22us/step - loss: 0.0152 - acc: 0.9226\n",
      "Epoch 66/100\n",
      "60000/60000 [==============================] - 1s 22us/step - loss: 0.0149 - acc: 0.9246\n",
      "Epoch 67/100\n",
      "60000/60000 [==============================] - 1s 23us/step - loss: 0.0145 - acc: 0.9259\n",
      "Epoch 68/100\n",
      "60000/60000 [==============================] - 1s 22us/step - loss: 0.0142 - acc: 0.9265\n",
      "Epoch 69/100\n",
      "60000/60000 [==============================] - 1s 23us/step - loss: 0.0138 - acc: 0.9281\n",
      "Epoch 70/100\n",
      "60000/60000 [==============================] - 1s 22us/step - loss: 0.0135 - acc: 0.9299\n",
      "Epoch 71/100\n",
      "60000/60000 [==============================] - 2s 32us/step - loss: 0.0132 - acc: 0.9311\n",
      "Epoch 72/100\n",
      "60000/60000 [==============================] - 2s 34us/step - loss: 0.0130 - acc: 0.9316\n",
      "Epoch 73/100\n",
      "60000/60000 [==============================] - 2s 34us/step - loss: 0.0127 - acc: 0.9327\n",
      "Epoch 74/100\n",
      "60000/60000 [==============================] - 2s 33us/step - loss: 0.0125 - acc: 0.9338\n",
      "Epoch 75/100\n",
      "60000/60000 [==============================] - 2s 30us/step - loss: 0.0123 - acc: 0.9349\n",
      "Epoch 76/100\n",
      "60000/60000 [==============================] - 1s 25us/step - loss: 0.0120 - acc: 0.9359\n",
      "Epoch 77/100\n",
      "60000/60000 [==============================] - 1s 24us/step - loss: 0.0118 - acc: 0.9363\n",
      "Epoch 78/100\n"
     ]
    },
    {
     "name": "stdout",
     "output_type": "stream",
     "text": [
      "60000/60000 [==============================] - 1s 22us/step - loss: 0.0116 - acc: 0.9372\n",
      "Epoch 79/100\n",
      "60000/60000 [==============================] - 1s 22us/step - loss: 0.0115 - acc: 0.9379\n",
      "Epoch 80/100\n",
      "60000/60000 [==============================] - 1s 24us/step - loss: 0.0112 - acc: 0.9394\n",
      "Epoch 81/100\n",
      "60000/60000 [==============================] - 1s 25us/step - loss: 0.0111 - acc: 0.9400\n",
      "Epoch 82/100\n",
      "60000/60000 [==============================] - 2s 29us/step - loss: 0.0109 - acc: 0.9408\n",
      "Epoch 83/100\n",
      "60000/60000 [==============================] - 2s 29us/step - loss: 0.0107 - acc: 0.9419\n",
      "Epoch 84/100\n",
      "60000/60000 [==============================] - 2s 28us/step - loss: 0.0106 - acc: 0.9422\n",
      "Epoch 85/100\n",
      "60000/60000 [==============================] - 2s 29us/step - loss: 0.0104 - acc: 0.9427\n",
      "Epoch 86/100\n",
      "60000/60000 [==============================] - 2s 28us/step - loss: 0.0103 - acc: 0.9435\n",
      "Epoch 87/100\n",
      "60000/60000 [==============================] - 2s 28us/step - loss: 0.0101 - acc: 0.9446\n",
      "Epoch 88/100\n",
      "60000/60000 [==============================] - 2s 28us/step - loss: 0.0100 - acc: 0.9454\n",
      "Epoch 89/100\n",
      "60000/60000 [==============================] - 2s 29us/step - loss: 0.0099 - acc: 0.9459\n",
      "Epoch 90/100\n",
      "60000/60000 [==============================] - 2s 27us/step - loss: 0.0098 - acc: 0.9464\n",
      "Epoch 91/100\n",
      "60000/60000 [==============================] - 2s 29us/step - loss: 0.0097 - acc: 0.9463\n",
      "Epoch 92/100\n",
      "60000/60000 [==============================] - 2s 28us/step - loss: 0.0096 - acc: 0.9471\n",
      "Epoch 93/100\n",
      "60000/60000 [==============================] - 2s 32us/step - loss: 0.0094 - acc: 0.9479\n",
      "Epoch 94/100\n",
      "60000/60000 [==============================] - 2s 32us/step - loss: 0.0093 - acc: 0.9487\n",
      "Epoch 95/100\n",
      "60000/60000 [==============================] - 2s 26us/step - loss: 0.0092 - acc: 0.9493\n",
      "Epoch 96/100\n",
      "60000/60000 [==============================] - 1s 24us/step - loss: 0.0090 - acc: 0.9499\n",
      "Epoch 97/100\n",
      "60000/60000 [==============================] - 2s 29us/step - loss: 0.0090 - acc: 0.9500\n",
      "Epoch 98/100\n",
      "60000/60000 [==============================] - 2s 31us/step - loss: 0.0089 - acc: 0.9503\n",
      "Epoch 99/100\n",
      "22500/60000 [==========>...................] - ETA: 1s - loss: 0.0089 - acc: 0.9497"
     ]
    }
   ],
   "source": [
    "model.fit(x_train, y_train, batch_size=100, epochs=100)"
   ]
  },
  {
   "cell_type": "code",
   "execution_count": null,
   "metadata": {},
   "outputs": [],
   "source": [
    "score = model.evaluate(x_test, y_test)"
   ]
  },
  {
   "cell_type": "code",
   "execution_count": null,
   "metadata": {},
   "outputs": [],
   "source": [
    "print('loss:', score[0])\n",
    "print('正確率', score[1])"
   ]
  },
  {
   "cell_type": "code",
   "execution_count": null,
   "metadata": {},
   "outputs": [],
   "source": []
  }
 ],
 "metadata": {
  "kernelspec": {
   "display_name": "Python 3",
   "language": "python",
   "name": "python3"
  },
  "language_info": {
   "codemirror_mode": {
    "name": "ipython",
    "version": 3
   },
   "file_extension": ".py",
   "mimetype": "text/x-python",
   "name": "python",
   "nbconvert_exporter": "python",
   "pygments_lexer": "ipython3",
   "version": "3.6.5"
  }
 },
 "nbformat": 4,
 "nbformat_minor": 2
}
