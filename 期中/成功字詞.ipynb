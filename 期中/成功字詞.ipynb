{
 "cells": [
  {
   "cell_type": "markdown",
   "metadata": {},
   "source": [
    "在前一程式基礎上，算出每一類別可能導致成功之字詞"
   ]
  },
  {
   "cell_type": "code",
   "execution_count": 1,
   "metadata": {},
   "outputs": [],
   "source": [
    "from sklearn import cluster, datasets\n",
    "from sklearn.cluster import KMeans\n",
    "import jieba\n",
    "import csv\n",
    "import numpy as np\n",
    "punc = [\"』\",\"『\",\"丨\",\"｜\",\"|\",\"│\",\"─\",\"｜\",\"－\",\"—\",\"〉\",\"〈\",\">\",\"<\",\"&\", \"]\", \"[\", \"╱\", \"/\", \"0\",\"０\",\"1\",\"１\",\"2\",\"２\",\"3\",\"３\",\"4\",\"４\",\"5\",\"５\",\"6\",\"６\",\"7\",\"７\",\"8\",\"８\",\"9\",\"９\",\"。\",\".\",\"；\",\"=\",\"●\",\"%\",\"【\",\"】\",\"《\",\"》\",\"：\",\":\",\"+\",\"?\",\"？\",\"!\",\"！\",\"，\",\",\" ,\"「\",\"　\",\"」\",\"＊\",\"’\",'\"', \" \",\"(\",\")\",\"（\",\"）\",\"-\",\"／\",\"、\"]\n",
    "jieba.set_dictionary('C:\\Program Files\\Python36\\lib\\site-packages\\jieba\\dict.txt.big.txt')"
   ]
  },
  {
   "cell_type": "code",
   "execution_count": 2,
   "metadata": {},
   "outputs": [],
   "source": [
    "stopwords = []\n",
    "with open('stoplist.txt', 'r', encoding='utf8') as txtFile:\n",
    "    for data in txtFile.readlines():\n",
    "        data = data.strip()\n",
    "        stopwords.append(data)"
   ]
  },
  {
   "cell_type": "code",
   "execution_count": 3,
   "metadata": {},
   "outputs": [
    {
     "name": "stderr",
     "output_type": "stream",
     "text": [
      "Building prefix dict from C:\\Program Files\\Python36\\lib\\site-packages\\jieba\\dict.txt.big.txt ...\n",
      "Loading model from cache C:\\Users\\ucer\\AppData\\Local\\Temp\\jieba.ufdf3adf8ca174fd60fd39d3555294534.cache\n",
      "Loading model cost 1.471 seconds.\n",
      "Prefix dict has been built succesfully.\n"
     ]
    }
   ],
   "source": [
    "corpus = {}\n",
    "dic = {}\n",
    "count_row = 0\n",
    "count_corpus = 0\n",
    "temp_cors = []\n",
    "with open(\"flyingV_money (1).csv\", \"r\", encoding=\"utf16\") as csvFile:\n",
    "    rows = csv.DictReader(csvFile, delimiter = \"\\t\")\n",
    "    for row in rows:\n",
    "        dic[count_row] = []\n",
    "        temp_title = \"\"\n",
    "        for temp_word in row[\"title\"]:\n",
    "            if temp_word in punc:\n",
    "                continue\n",
    "            temp_title += temp_word\n",
    "        words = jieba.cut(temp_title)\n",
    "        if row[\"money\"] < row[\"targetmoney\"]:\n",
    "            continue\n",
    "        for word in words:\n",
    "            if word not in stopwords:\n",
    "                dic[count_row].append(word)\n",
    "                if word not in corpus:\n",
    "                    temp_cors.append(word)\n",
    "                    corpus[word] = 1\n",
    "                    count_corpus += 1\n",
    "                else: \n",
    "                    corpus[word] += 1\n",
    "        count_row += 1"
   ]
  },
  {
   "cell_type": "code",
   "execution_count": 4,
   "metadata": {},
   "outputs": [],
   "source": [
    "X = []\n",
    "\n",
    "# Y = [0] * count_corpus\n",
    "# X = []\n",
    "# for row in range(count_row):\n",
    "#     X.append(Y)\n",
    "\n",
    "\n",
    "df_dic = {}\n",
    "for word in temp_cors:\n",
    "    temp = []\n",
    "    for article in dic:\n",
    "        if word in dic[article]:\n",
    "            temp.append(article)\n",
    "    df_dic[word] = temp\n",
    "\n",
    "for word in df_dic:\n",
    "    temp = []\n",
    "    for article in dic:\n",
    "        if word in dic[article]:\n",
    "            temp.append(1)\n",
    "        else:\n",
    "            temp.append(0)\n",
    "    X.append(temp)\n",
    "X = np.array(X)"
   ]
  },
  {
   "cell_type": "code",
   "execution_count": 5,
   "metadata": {},
   "outputs": [
    {
     "name": "stdout",
     "output_type": "stream",
     "text": [
      "3\n",
      "5\n"
     ]
    }
   ],
   "source": [
    "K = [3,5]\n",
    "\n",
    "dis_vec = {}\n",
    "# KMeans 演算法\n",
    "final_X2 = {}\n",
    "count_member = {}\n",
    "for k in K:\n",
    "    dis_vec[k] = {}\n",
    "    X2 = {}\n",
    "    temp = []\n",
    "    print(k)\n",
    "    with open(str(k) + \"_result(success).txt\", \"r\", encoding = \"utf8\") as txtFile:\n",
    "        for row in txtFile:\n",
    "            try:\n",
    "                temp.append(int(txtFile.readline()[0]))\n",
    "            except:\n",
    "                continue\n",
    "    # with open(str(k) + \"_result(best).txt\", \"r\", encoding = \"utf8\") as txtFile:\n",
    "    #     for row in txtFile:\n",
    "    #         try:\n",
    "    #             temp.append(int(txtFile.readline()[0]))\n",
    "    #             if temp[-1] not in dis_vec[k]:\n",
    "    #                 dis_vec[k][temp[-1]] = []\n",
    "    #             dis_vec[k][temp[-1]].append((final_X2[k][len(temp) - 1]))\n",
    "    #             print(dic[len(temp) - 1])\n",
    "\n",
    "    #         except:\n",
    "    #             continue\n",
    "    \n",
    "    count_member[k] = []\n",
    "    for i in range(k):\n",
    "        count_member[k].append(temp.count(i))\n",
    "    count = []\n",
    "    for i in range(k):\n",
    "        count.append(temp.count(i))\n",
    "    for article in range(len(temp)):\n",
    "        if temp[article] not in X2:\n",
    "            X2[temp[article]] = {}\n",
    "        for word in dic[article]:\n",
    "            if word not in X2[temp[article]]:\n",
    "                X2[temp[article]][word] = 1\n",
    "            else:\n",
    "                X2[temp[article]][word] += 1\n",
    "    final_X2[k] = X2"
   ]
  },
  {
   "cell_type": "code",
   "execution_count": 6,
   "metadata": {},
   "outputs": [
    {
     "name": "stdout",
     "output_type": "stream",
     "text": [
      "3\n",
      "5\n"
     ]
    }
   ],
   "source": [
    "for k in K:\n",
    "    dis_vec[k] = {}\n",
    "    temp = []\n",
    "    print(k)\n",
    "    with open(str(k) + \"_result(success).txt\", \"r\", encoding = \"utf8\") as txtFile:\n",
    "        for row in txtFile:\n",
    "            try:\n",
    "                temp.append(int(txtFile.readline()[0]))\n",
    "                if temp[-1] not in dis_vec[k]:\n",
    "                    dis_vec[k][temp[-1]] = []\n",
    "                dis_vec[k][temp[-1]].append((X[len(temp) - 1]))\n",
    "                # print(X[len(temp) - 1])\n",
    "\n",
    "            except:\n",
    "                continue"
   ]
  },
  {
   "cell_type": "code",
   "execution_count": 7,
   "metadata": {},
   "outputs": [
    {
     "name": "stdout",
     "output_type": "stream",
     "text": [
      "{3: {1: 4.074783102219263, 2: 0.9693154166924646, 0: 0.1163682348605019}, 5: {3: 1.6754971656073845, 0: 0.48218579640362663, 4: 0.18825307450530895, 2: 0.03154071360662013, 1: 0.0017633951847231188}}\n"
     ]
    }
   ],
   "source": [
    "count_vector = 0\n",
    "distance = {}\n",
    "for k in dis_vec:\n",
    "    distance[k] = {}\n",
    "    temp_arr = []\n",
    "    for clus in dis_vec[k]:\n",
    "        sum_array = 0\n",
    "        for vector in dis_vec[k][clus]:\n",
    "            # print(len(vector))\n",
    "            temp_arr.append((vector))\n",
    "            count_vector += 1\n",
    "        mean_vector = np.array(temp_arr).mean(0)\n",
    "        # print(mean_vector)\n",
    "        for vector in dis_vec[k][clus]:\n",
    "            temp = vector - mean_vector\n",
    "            for i in temp:\n",
    "                sum_array += i**2\n",
    "        sum_array /= count_vector\n",
    "        distance[k][clus] = sum_array\n",
    "print(distance)"
   ]
  },
  {
   "cell_type": "code",
   "execution_count": 8,
   "metadata": {},
   "outputs": [],
   "source": [
    "final_score = {}\n",
    "count_A = 0\n",
    "for k in K:\n",
    "    clus_score = {}\n",
    "    for clus in range(k):\n",
    "        score = {}\n",
    "        for term in temp_cors:\n",
    "            temp_score = 0\n",
    "            ac = 0\n",
    "            try:\n",
    "                if term in final_X2[k][clus]:\n",
    "                    ac = final_X2[k][clus][term]\n",
    "            except:\n",
    "                continue\n",
    "            df = corpus[term]\n",
    "            # for temp_class in range(k):\n",
    "            #     if term in final_X2[k][temp_class]:\n",
    "            #         df += final_X2[k][temp_class][term]\n",
    "            #     if df == 0:\n",
    "            #         print(\"AAAAAAAAAAAAA\")\n",
    "            #         count_A += 1\n",
    "            ad = df - ac\n",
    "            bc = count[clus] - ac\n",
    "\n",
    "            bd = count_row - ad - ac - bc\n",
    "            score[term] = temp_score\n",
    "            a = ac + ad\n",
    "            b = bc + bd\n",
    "            c = ac + bc\n",
    "            d = ad + bd\n",
    "            T = a + b\n",
    "            if ac>0:\n",
    "                # print(ac,ad,bc,bd, term)\n",
    "                term_score = ((a*c)/T-ac)**2/((a*c)/T) + ((b*c/T-bc))**2/((b*c)/T) + ((a*d/T-ad))**2/((a*d)/T) + ((b*d/T-bd))**2/((b*d)/T)\n",
    "                score[term] = term_score\n",
    "\n",
    "        clus_score[clus] = score\n",
    "\n",
    "    final_score[k] = clus_score"
   ]
  },
  {
   "cell_type": "code",
   "execution_count": 9,
   "metadata": {},
   "outputs": [],
   "source": [
    "ss = []\n",
    "# for k in final_score:\n",
    "for clus in final_score[3]:\n",
    "    for term in final_score[3][clus]:\n",
    "        if final_score[3][clus][term] not in ss:\n",
    "            ss.append(final_score[3][clus][term])\n",
    "ss.sort()"
   ]
  },
  {
   "cell_type": "code",
   "execution_count": 10,
   "metadata": {},
   "outputs": [
    {
     "name": "stdout",
     "output_type": "stream",
     "text": [
      "3\n",
      "0\t19\n",
      "['計畫', '台灣', '募資', '潮流', 'ARK']\n",
      "1\t669\n",
      "['計畫', '募資', '計劃', '專輯', '台灣']\n",
      "2\t167\n",
      "['實現', '英語', '音樂', '專案', '偶像']\n",
      "5\n",
      "0\t159\n",
      "['實現', '英語', '專案', '偶像', '偽']\n",
      "1\t3\n",
      "['尖石', '錦屏', '合唱團', '爆米', '爆遍']\n",
      "2\t22\n",
      "['宿營', '趙', '宿營', '趙', '街舞']\n",
      "3\t621\n",
      "['專輯', '畢業', '首張', '包', '充電']\n",
      "4\t50\n",
      "['服飾', '控制', '炙', '彘', 'PickPigs']\n"
     ]
    }
   ],
   "source": [
    "for k in K:\n",
    "    print(k)\n",
    "    for clus in final_score[k]:\n",
    "        temp = []\n",
    "        print(clus, end = \"\\t\")\n",
    "        print(count_member[k][clus])\n",
    "\n",
    "        for term in final_score[k][clus]:\n",
    "            temp.append(final_score[k][clus][term])\n",
    "            # if ss[-1] == final_score[k][clus][term]:\n",
    "            #     print(term)\n",
    "            # if ss[-2] == final_score[k][clus][term]:\n",
    "            #     print(term)\n",
    "            # if ss[-3] == final_score[k][clus][term]:\n",
    "            #     print(term)\n",
    "        temp.sort()\n",
    "        temp.reverse()\n",
    "        temp_term = []\n",
    "        for i in range(len(temp)):\n",
    "            for term in final_score[k][clus]:\n",
    "                if final_score[k][clus][term] == temp[i]:\n",
    "                    temp_term.append(term)\n",
    "                if len(temp_term) > 4:\n",
    "                    break\n",
    "            if len(temp_term) > 4:\n",
    "                print(temp_term)\n",
    "                break"
   ]
  },
  {
   "cell_type": "code",
   "execution_count": null,
   "metadata": {},
   "outputs": [],
   "source": []
  }
 ],
 "metadata": {
  "kernelspec": {
   "display_name": "Python 3",
   "language": "python",
   "name": "python3"
  },
  "language_info": {
   "codemirror_mode": {
    "name": "ipython",
    "version": 3
   },
   "file_extension": ".py",
   "mimetype": "text/x-python",
   "name": "python",
   "nbconvert_exporter": "python",
   "pygments_lexer": "ipython3",
   "version": "3.6.5"
  }
 },
 "nbformat": 4,
 "nbformat_minor": 2
}
